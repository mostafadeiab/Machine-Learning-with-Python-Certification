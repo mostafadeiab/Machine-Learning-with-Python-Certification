{
  "cells": [
    {
      "cell_type": "code",
      "execution_count": 1,
      "metadata": {
        "id": "8RZOuS9LWQvv"
      },
      "outputs": [
        {
          "name": "stdout",
          "output_type": "stream",
          "text": [
            "Defaulting to user installation because normal site-packages is not writeable\n",
            "Collecting tf-nightly\n",
            "  Downloading tf_nightly-2.18.0.dev20240811-cp310-cp310-manylinux_2_17_x86_64.manylinux2014_x86_64.whl (636.0 MB)\n",
            "\u001b[2K     \u001b[90m━━━━━━━━━━━━━━━━━━━━━━━━━━━━━━━━━━━━━━━\u001b[0m \u001b[32m636.0/636.0 MB\u001b[0m \u001b[31m6.3 MB/s\u001b[0m eta \u001b[36m0:00:00\u001b[0m00:01\u001b[0m00:01\u001b[0m\n",
            "\u001b[?25hRequirement already satisfied: packaging in /home/mostafa/.local/lib/python3.10/site-packages (from tf-nightly) (24.1)\n",
            "Requirement already satisfied: grpcio<2.0,>=1.24.3 in /home/mostafa/.local/lib/python3.10/site-packages (from tf-nightly) (1.65.4)\n",
            "Requirement already satisfied: gast!=0.5.0,!=0.5.1,!=0.5.2,>=0.2.1 in /home/mostafa/.local/lib/python3.10/site-packages (from tf-nightly) (0.6.0)\n",
            "Collecting tb-nightly~=2.18.0.a\n",
            "  Downloading tb_nightly-2.18.0a20240811-py3-none-any.whl (5.5 MB)\n",
            "\u001b[2K     \u001b[90m━━━━━━━━━━━━━━━━━━━━━━━━━━━━━━━━━━━━━━━━\u001b[0m \u001b[32m5.5/5.5 MB\u001b[0m \u001b[31m16.5 MB/s\u001b[0m eta \u001b[36m0:00:00\u001b[0m00:01\u001b[0m00:01\u001b[0m\n",
            "\u001b[?25hRequirement already satisfied: requests<3,>=2.21.0 in /home/mostafa/.local/lib/python3.10/site-packages (from tf-nightly) (2.32.3)\n",
            "Requirement already satisfied: astunparse>=1.6.0 in /home/mostafa/.local/lib/python3.10/site-packages (from tf-nightly) (1.6.3)\n",
            "Requirement already satisfied: h5py>=3.10.0 in /home/mostafa/.local/lib/python3.10/site-packages (from tf-nightly) (3.11.0)\n",
            "Requirement already satisfied: termcolor>=1.1.0 in /home/mostafa/.local/lib/python3.10/site-packages (from tf-nightly) (2.4.0)\n",
            "Requirement already satisfied: absl-py>=1.0.0 in /home/mostafa/.local/lib/python3.10/site-packages (from tf-nightly) (2.1.0)\n",
            "Requirement already satisfied: setuptools in /usr/lib/python3/dist-packages (from tf-nightly) (59.6.0)\n",
            "Requirement already satisfied: opt-einsum>=2.3.2 in /home/mostafa/.local/lib/python3.10/site-packages (from tf-nightly) (3.3.0)\n",
            "Requirement already satisfied: wrapt>=1.11.0 in /home/mostafa/.local/lib/python3.10/site-packages (from tf-nightly) (1.16.0)\n",
            "Requirement already satisfied: six>=1.12.0 in /usr/lib/python3/dist-packages (from tf-nightly) (1.16.0)\n",
            "Requirement already satisfied: protobuf!=4.21.0,!=4.21.1,!=4.21.2,!=4.21.3,!=4.21.4,!=4.21.5,<5.0.0dev,>=3.20.3 in /home/mostafa/.local/lib/python3.10/site-packages (from tf-nightly) (4.25.4)\n",
            "Collecting keras-nightly>=3.2.0.dev\n",
            "  Downloading keras_nightly-3.4.1.dev2024081203-py3-none-any.whl (1.1 MB)\n",
            "\u001b[2K     \u001b[90m━━━━━━━━━━━━━━━━━━━━━━━━━━━━━━━━━━━━━━━━\u001b[0m \u001b[32m1.1/1.1 MB\u001b[0m \u001b[31m15.0 MB/s\u001b[0m eta \u001b[36m0:00:00\u001b[0m00:01\u001b[0m00:01\u001b[0m\n",
            "\u001b[?25hRequirement already satisfied: typing-extensions>=3.6.6 in /home/mostafa/.local/lib/python3.10/site-packages (from tf-nightly) (4.12.2)\n",
            "Requirement already satisfied: numpy<2.0.0,>=1.23.5 in /home/mostafa/.local/lib/python3.10/site-packages (from tf-nightly) (1.26.4)\n",
            "Requirement already satisfied: libclang>=13.0.0 in /home/mostafa/.local/lib/python3.10/site-packages (from tf-nightly) (18.1.1)\n",
            "Requirement already satisfied: google-pasta>=0.1.1 in /home/mostafa/.local/lib/python3.10/site-packages (from tf-nightly) (0.2.0)\n",
            "Requirement already satisfied: tensorflow-io-gcs-filesystem>=0.23.1 in /home/mostafa/.local/lib/python3.10/site-packages (from tf-nightly) (0.37.1)\n",
            "Requirement already satisfied: flatbuffers>=24.3.25 in /home/mostafa/.local/lib/python3.10/site-packages (from tf-nightly) (24.3.25)\n",
            "Requirement already satisfied: ml-dtypes<0.5.0,>=0.3.1 in /home/mostafa/.local/lib/python3.10/site-packages (from tf-nightly) (0.4.0)\n",
            "Requirement already satisfied: wheel<1.0,>=0.23.0 in /usr/lib/python3/dist-packages (from astunparse>=1.6.0->tf-nightly) (0.37.1)\n",
            "Requirement already satisfied: optree in /home/mostafa/.local/lib/python3.10/site-packages (from keras-nightly>=3.2.0.dev->tf-nightly) (0.12.1)\n",
            "Requirement already satisfied: rich in /home/mostafa/.local/lib/python3.10/site-packages (from keras-nightly>=3.2.0.dev->tf-nightly) (13.7.1)\n",
            "Requirement already satisfied: namex in /home/mostafa/.local/lib/python3.10/site-packages (from keras-nightly>=3.2.0.dev->tf-nightly) (0.0.8)\n",
            "Requirement already satisfied: idna<4,>=2.5 in /home/mostafa/.local/lib/python3.10/site-packages (from requests<3,>=2.21.0->tf-nightly) (3.7)\n",
            "Requirement already satisfied: charset-normalizer<4,>=2 in /home/mostafa/.local/lib/python3.10/site-packages (from requests<3,>=2.21.0->tf-nightly) (3.3.2)\n",
            "Requirement already satisfied: certifi>=2017.4.17 in /home/mostafa/.local/lib/python3.10/site-packages (from requests<3,>=2.21.0->tf-nightly) (2024.7.4)\n",
            "Requirement already satisfied: urllib3<3,>=1.21.1 in /home/mostafa/.local/lib/python3.10/site-packages (from requests<3,>=2.21.0->tf-nightly) (2.2.2)\n",
            "Requirement already satisfied: tensorboard-data-server<0.8.0,>=0.7.0 in /home/mostafa/.local/lib/python3.10/site-packages (from tb-nightly~=2.18.0.a->tf-nightly) (0.7.2)\n",
            "Requirement already satisfied: werkzeug>=1.0.1 in /home/mostafa/.local/lib/python3.10/site-packages (from tb-nightly~=2.18.0.a->tf-nightly) (3.0.3)\n",
            "Requirement already satisfied: markdown>=2.6.8 in /home/mostafa/.local/lib/python3.10/site-packages (from tb-nightly~=2.18.0.a->tf-nightly) (3.6)\n",
            "Requirement already satisfied: MarkupSafe>=2.1.1 in /home/mostafa/.local/lib/python3.10/site-packages (from werkzeug>=1.0.1->tb-nightly~=2.18.0.a->tf-nightly) (2.1.5)\n",
            "Requirement already satisfied: pygments<3.0.0,>=2.13.0 in /home/mostafa/.local/lib/python3.10/site-packages (from rich->keras-nightly>=3.2.0.dev->tf-nightly) (2.18.0)\n",
            "Requirement already satisfied: markdown-it-py>=2.2.0 in /home/mostafa/.local/lib/python3.10/site-packages (from rich->keras-nightly>=3.2.0.dev->tf-nightly) (3.0.0)\n",
            "Requirement already satisfied: mdurl~=0.1 in /home/mostafa/.local/lib/python3.10/site-packages (from markdown-it-py>=2.2.0->rich->keras-nightly>=3.2.0.dev->tf-nightly) (0.1.2)\n",
            "Installing collected packages: tb-nightly, keras-nightly, tf-nightly\n",
            "Successfully installed keras-nightly-3.4.1.dev2024081203 tb-nightly-2.18.0a20240811 tf-nightly-2.18.0.dev20240811\n"
          ]
        },
        {
          "name": "stderr",
          "output_type": "stream",
          "text": [
            "2024-08-12 05:18:25.491834: E external/local_xla/xla/stream_executor/cuda/cuda_fft.cc:477] Unable to register cuFFT factory: Attempting to register factory for plugin cuFFT when one has already been registered\n",
            "WARNING: All log messages before absl::InitializeLog() is called are written to STDERR\n",
            "E0000 00:00:1723454305.502861  143083 cuda_dnn.cc:8396] Unable to register cuDNN factory: Attempting to register factory for plugin cuDNN when one has already been registered\n",
            "E0000 00:00:1723454305.506116  143083 cuda_blas.cc:1418] Unable to register cuBLAS factory: Attempting to register factory for plugin cuBLAS when one has already been registered\n",
            "2024-08-12 05:18:25.516866: I tensorflow/core/platform/cpu_feature_guard.cc:210] This TensorFlow binary is optimized to use available CPU instructions in performance-critical operations.\n",
            "To enable the following instructions: AVX2 FMA, in other operations, rebuild TensorFlow with the appropriate compiler flags.\n",
            "2024-08-12 05:18:26.281475: W tensorflow/compiler/tf2tensorrt/utils/py_utils.cc:38] TF-TRT Warning: Could not find TensorRT\n"
          ]
        },
        {
          "name": "stdout",
          "output_type": "stream",
          "text": [
            "Defaulting to user installation because normal site-packages is not writeable\n",
            "Collecting tensorflow-datasets\n",
            "  Downloading tensorflow_datasets-4.9.6-py3-none-any.whl (5.1 MB)\n",
            "\u001b[2K     \u001b[90m━━━━━━━━━━━━━━━━━━━━━━━━━━━━━━━━━━━━━━━━\u001b[0m \u001b[32m5.1/5.1 MB\u001b[0m \u001b[31m16.8 MB/s\u001b[0m eta \u001b[36m0:00:00\u001b[0m00:01\u001b[0m00:01\u001b[0m\n",
            "\u001b[?25hCollecting toml\n",
            "  Downloading toml-0.10.2-py2.py3-none-any.whl (16 kB)\n",
            "Collecting etils[enp,epath,epy,etree]>=1.6.0\n",
            "  Downloading etils-1.7.0-py3-none-any.whl (152 kB)\n",
            "\u001b[2K     \u001b[90m━━━━━━━━━━━━━━━━━━━━━━━━━━━━━━━━━━━━━━\u001b[0m \u001b[32m152.4/152.4 KB\u001b[0m \u001b[31m12.3 MB/s\u001b[0m eta \u001b[36m0:00:00\u001b[0m\n",
            "\u001b[?25hRequirement already satisfied: termcolor in /home/mostafa/.local/lib/python3.10/site-packages (from tensorflow-datasets) (2.4.0)\n",
            "Requirement already satisfied: protobuf>=3.20 in /home/mostafa/.local/lib/python3.10/site-packages (from tensorflow-datasets) (4.25.4)\n",
            "Collecting immutabledict\n",
            "  Downloading immutabledict-4.2.0-py3-none-any.whl (4.7 kB)\n",
            "Requirement already satisfied: requests>=2.19.0 in /home/mostafa/.local/lib/python3.10/site-packages (from tensorflow-datasets) (2.32.3)\n",
            "Collecting tqdm\n",
            "  Downloading tqdm-4.66.5-py3-none-any.whl (78 kB)\n",
            "\u001b[2K     \u001b[90m━━━━━━━━━━━━━━━━━━━━━━━━━━━━━━━━━━━━━━━━\u001b[0m \u001b[32m78.4/78.4 KB\u001b[0m \u001b[31m6.6 MB/s\u001b[0m eta \u001b[36m0:00:00\u001b[0m\n",
            "\u001b[?25hCollecting simple-parsing\n",
            "  Downloading simple_parsing-0.1.5-py3-none-any.whl (113 kB)\n",
            "\u001b[2K     \u001b[90m━━━━━━━━━━━━━━━━━━━━━━━━━━━━━━━━━━━━━━\u001b[0m \u001b[32m113.6/113.6 KB\u001b[0m \u001b[31m11.9 MB/s\u001b[0m eta \u001b[36m0:00:00\u001b[0m\n",
            "\u001b[?25hCollecting tensorflow-metadata\n",
            "  Downloading tensorflow_metadata-1.15.0-py3-none-any.whl (28 kB)\n",
            "Requirement already satisfied: psutil in /home/mostafa/.local/lib/python3.10/site-packages (from tensorflow-datasets) (6.0.0)\n",
            "Collecting pyarrow\n",
            "  Downloading pyarrow-17.0.0-cp310-cp310-manylinux_2_28_x86_64.whl (39.9 MB)\n",
            "\u001b[2K     \u001b[90m━━━━━━━━━━━━━━━━━━━━━━━━━━━━━━━━━━━━━━━━\u001b[0m \u001b[32m39.9/39.9 MB\u001b[0m \u001b[31m15.1 MB/s\u001b[0m eta \u001b[36m0:00:00\u001b[0m00:01\u001b[0m00:01\u001b[0m\n",
            "\u001b[?25hRequirement already satisfied: wrapt in /home/mostafa/.local/lib/python3.10/site-packages (from tensorflow-datasets) (1.16.0)\n",
            "Collecting promise\n",
            "  Downloading promise-2.3.tar.gz (19 kB)\n",
            "  Preparing metadata (setup.py) ... \u001b[?25ldone\n",
            "\u001b[?25hRequirement already satisfied: absl-py in /home/mostafa/.local/lib/python3.10/site-packages (from tensorflow-datasets) (2.1.0)\n",
            "Requirement already satisfied: numpy in /home/mostafa/.local/lib/python3.10/site-packages (from tensorflow-datasets) (1.26.4)\n",
            "Collecting array-record>=0.5.0\n",
            "  Downloading array_record-0.5.1-cp310-cp310-manylinux_2_17_x86_64.manylinux2014_x86_64.whl (2.2 MB)\n",
            "\u001b[2K     \u001b[90m━━━━━━━━━━━━━━━━━━━━━━━━━━━━━━━━━━━━━━━━\u001b[0m \u001b[32m2.2/2.2 MB\u001b[0m \u001b[31m18.4 MB/s\u001b[0m eta \u001b[36m0:00:00\u001b[0m00:01\u001b[0m00:01\u001b[0m\n",
            "\u001b[?25hCollecting dm-tree\n",
            "  Downloading dm_tree-0.1.8-cp310-cp310-manylinux_2_17_x86_64.manylinux2014_x86_64.whl (152 kB)\n",
            "\u001b[2K     \u001b[90m━━━━━━━━━━━━━━━━━━━━━━━━━━━━━━━━━━━━━━\u001b[0m \u001b[32m152.8/152.8 KB\u001b[0m \u001b[31m14.4 MB/s\u001b[0m eta \u001b[36m0:00:00\u001b[0m\n",
            "\u001b[?25hCollecting click\n",
            "  Downloading click-8.1.7-py3-none-any.whl (97 kB)\n",
            "\u001b[2K     \u001b[90m━━━━━━━━━━━━━━━━━━━━━━━━━━━━━━━━━━━━━━━━\u001b[0m \u001b[32m97.9/97.9 KB\u001b[0m \u001b[31m9.7 MB/s\u001b[0m eta \u001b[36m0:00:00\u001b[0m\n",
            "\u001b[?25hCollecting fsspec\n",
            "  Downloading fsspec-2024.6.1-py3-none-any.whl (177 kB)\n",
            "\u001b[2K     \u001b[90m━━━━━━━━━━━━━━━━━━━━━━━━━━━━━━━━━━━━━━\u001b[0m \u001b[32m177.6/177.6 KB\u001b[0m \u001b[31m22.7 MB/s\u001b[0m eta \u001b[36m0:00:00\u001b[0m\n",
            "\u001b[?25hRequirement already satisfied: zipp in /usr/lib/python3/dist-packages (from etils[enp,epath,epy,etree]>=1.6.0->tensorflow-datasets) (1.0.0)\n",
            "Requirement already satisfied: typing_extensions in /home/mostafa/.local/lib/python3.10/site-packages (from etils[enp,epath,epy,etree]>=1.6.0->tensorflow-datasets) (4.12.2)\n",
            "Collecting importlib_resources\n",
            "  Downloading importlib_resources-6.4.0-py3-none-any.whl (38 kB)\n",
            "Requirement already satisfied: urllib3<3,>=1.21.1 in /home/mostafa/.local/lib/python3.10/site-packages (from requests>=2.19.0->tensorflow-datasets) (2.2.2)\n",
            "Requirement already satisfied: idna<4,>=2.5 in /home/mostafa/.local/lib/python3.10/site-packages (from requests>=2.19.0->tensorflow-datasets) (3.7)\n",
            "Requirement already satisfied: charset-normalizer<4,>=2 in /home/mostafa/.local/lib/python3.10/site-packages (from requests>=2.19.0->tensorflow-datasets) (3.3.2)\n",
            "Requirement already satisfied: certifi>=2017.4.17 in /home/mostafa/.local/lib/python3.10/site-packages (from requests>=2.19.0->tensorflow-datasets) (2024.7.4)\n",
            "Requirement already satisfied: six in /usr/lib/python3/dist-packages (from promise->tensorflow-datasets) (1.16.0)\n",
            "Collecting docstring-parser~=0.15\n",
            "  Downloading docstring_parser-0.16-py3-none-any.whl (36 kB)\n",
            "Collecting protobuf>=3.20\n",
            "  Downloading protobuf-3.20.3-cp310-cp310-manylinux_2_12_x86_64.manylinux2010_x86_64.whl (1.1 MB)\n",
            "\u001b[2K     \u001b[90m━━━━━━━━━━━━━━━━━━━━━━━━━━━━━━━━━━━━━━━━\u001b[0m \u001b[32m1.1/1.1 MB\u001b[0m \u001b[31m15.9 MB/s\u001b[0m eta \u001b[36m0:00:00\u001b[0ma \u001b[36m0:00:01\u001b[0m\n",
            "\u001b[?25hBuilding wheels for collected packages: promise\n",
            "  Building wheel for promise (setup.py) ... \u001b[?25ldone\n",
            "\u001b[?25h  Created wheel for promise: filename=promise-2.3-py3-none-any.whl size=21502 sha256=07ccf1d99ef63bf1b50dd33315a5d378c25fee52567db8b9402c417d25f76d5e\n",
            "  Stored in directory: /home/mostafa/.cache/pip/wheels/54/4e/28/3ed0e1c8a752867445bab994d2340724928aa3ab059c57c8db\n",
            "Successfully built promise\n",
            "Installing collected packages: dm-tree, tqdm, toml, pyarrow, protobuf, promise, importlib_resources, immutabledict, fsspec, etils, docstring-parser, click, tensorflow-metadata, simple-parsing, array-record, tensorflow-datasets\n",
            "  Attempting uninstall: protobuf\n",
            "    Found existing installation: protobuf 4.25.4\n",
            "    Uninstalling protobuf-4.25.4:\n",
            "      Successfully uninstalled protobuf-4.25.4\n",
            "Successfully installed array-record-0.5.1 click-8.1.7 dm-tree-0.1.8 docstring-parser-0.16 etils-1.7.0 fsspec-2024.6.1 immutabledict-4.2.0 importlib_resources-6.4.0 promise-2.3 protobuf-3.20.3 pyarrow-17.0.0 simple-parsing-0.1.5 tensorflow-datasets-4.9.6 tensorflow-metadata-1.15.0 toml-0.10.2 tqdm-4.66.5\n",
            "2.18.0-dev20240811\n"
          ]
        }
      ],
      "source": [
        "# import libraries\n",
        "try:\n",
        "  # %tensorflow_version only exists in Colab.\n",
        "  !pip install tf-nightly\n",
        "except Exception:\n",
        "  pass\n",
        "import tensorflow as tf\n",
        "import pandas as pd\n",
        "from tensorflow import keras\n",
        "!pip install tensorflow-datasets\n",
        "import tensorflow_datasets as tfds\n",
        "import numpy as np\n",
        "import matplotlib.pyplot as plt\n",
        "\n",
        "print(tf.__version__)"
      ]
    },
    {
      "cell_type": "code",
      "execution_count": 2,
      "metadata": {
        "id": "lMHwYXHXCar3"
      },
      "outputs": [
        {
          "name": "stdout",
          "output_type": "stream",
          "text": [
            "--2024-08-12 05:18:36--  https://cdn.freecodecamp.org/project-data/sms/train-data.tsv\n",
            "Resolving cdn.freecodecamp.org (cdn.freecodecamp.org)... 172.67.70.149, 104.26.2.33, 104.26.3.33, ...\n",
            "Connecting to cdn.freecodecamp.org (cdn.freecodecamp.org)|172.67.70.149|:443... connected.\n",
            "HTTP request sent, awaiting response... 200 OK\n",
            "Length: 358233 (350K) [text/tab-separated-values]\n",
            "Saving to: ‘train-data.tsv’\n",
            "\n",
            "train-data.tsv      100%[===================>] 349.84K  --.-KB/s    in 0.02s   \n",
            "\n",
            "2024-08-12 05:18:36 (16.2 MB/s) - ‘train-data.tsv’ saved [358233/358233]\n",
            "\n",
            "--2024-08-12 05:18:36--  https://cdn.freecodecamp.org/project-data/sms/valid-data.tsv\n",
            "Resolving cdn.freecodecamp.org (cdn.freecodecamp.org)... 172.67.70.149, 104.26.2.33, 104.26.3.33, ...\n",
            "Connecting to cdn.freecodecamp.org (cdn.freecodecamp.org)|172.67.70.149|:443... connected.\n",
            "HTTP request sent, awaiting response... 200 OK\n",
            "Length: 118774 (116K) [text/tab-separated-values]\n",
            "Saving to: ‘valid-data.tsv’\n",
            "\n",
            "valid-data.tsv      100%[===================>] 115.99K  --.-KB/s    in 0.02s   \n",
            "\n",
            "2024-08-12 05:18:37 (6.74 MB/s) - ‘valid-data.tsv’ saved [118774/118774]\n",
            "\n"
          ]
        }
      ],
      "source": [
        "# get data files\n",
        "#!wget https://cdn.freecodecamp.org/project-data/sms/train-data.tsv\n",
        "#!wget https://cdn.freecodecamp.org/project-data/sms/valid-data.tsv\n",
        "\n",
        "train_file_path = \"train-data.tsv\"\n",
        "test_file_path = \"valid-data.tsv\""
      ]
    },
    {
      "cell_type": "code",
      "execution_count": 3,
      "metadata": {
        "id": "g_h508FEClxO"
      },
      "outputs": [],
      "source": [
        "train_data = pd.read_csv(train_file_path, sep='\\t', header=None, names=['label', 'message'])\n",
        "test_data = pd.read_csv(test_file_path, sep='\\t', header=None, names=['label', 'message'])\n",
        "\n",
        "# Convert labels to binary (ham=0, spam=1)\n",
        "train_data['label'] = train_data['label'].apply(lambda x: 1 if x == 'spam' else 0)\n",
        "test_data['label'] = test_data['label'].apply(lambda x: 1 if x == 'spam' else 0)\n",
        "\n",
        "# Split the data into features and labels\n",
        "train_messages = train_data['message']\n",
        "train_labels = train_data['label'].values\n",
        "test_messages = test_data['message']\n",
        "test_labels = test_data['label'].values\n",
        "\n",
        "# Tokenize the text data\n",
        "tokenizer = keras.preprocessing.text.Tokenizer(num_words=10000, oov_token=\"<OOV>\")\n",
        "tokenizer.fit_on_texts(train_messages)\n",
        "\n",
        "# Convert text to sequences\n",
        "train_sequences = tokenizer.texts_to_sequences(train_messages)\n",
        "test_sequences = tokenizer.texts_to_sequences(test_messages)\n",
        "\n",
        "# Pad the sequences\n",
        "max_length = 100\n",
        "train_padded = keras.preprocessing.sequence.pad_sequences(train_sequences, maxlen=max_length, padding='post', truncating='post')\n",
        "test_padded = keras.preprocessing.sequence.pad_sequences(test_sequences, maxlen=max_length, padding='post', truncating='post')\n"
      ]
    },
    {
      "cell_type": "code",
      "execution_count": 7,
      "metadata": {},
      "outputs": [
        {
          "name": "stdout",
          "output_type": "stream",
          "text": [
            "Epoch 1/10\n",
            "\u001b[1m131/131\u001b[0m \u001b[32m━━━━━━━━━━━━━━━━━━━━\u001b[0m\u001b[37m\u001b[0m \u001b[1m1s\u001b[0m 3ms/step - accuracy: 0.8437 - loss: 0.4478 - val_accuracy: 0.8657 - val_loss: 0.3647\n",
            "Epoch 2/10\n",
            "\u001b[1m131/131\u001b[0m \u001b[32m━━━━━━━━━━━━━━━━━━━━\u001b[0m\u001b[37m\u001b[0m \u001b[1m0s\u001b[0m 2ms/step - accuracy: 0.8689 - loss: 0.3576 - val_accuracy: 0.8657 - val_loss: 0.3567\n",
            "Epoch 3/10\n",
            "\u001b[1m131/131\u001b[0m \u001b[32m━━━━━━━━━━━━━━━━━━━━\u001b[0m\u001b[37m\u001b[0m \u001b[1m0s\u001b[0m 2ms/step - accuracy: 0.8740 - loss: 0.3380 - val_accuracy: 0.8657 - val_loss: 0.3431\n",
            "Epoch 4/10\n",
            "\u001b[1m131/131\u001b[0m \u001b[32m━━━━━━━━━━━━━━━━━━━━\u001b[0m\u001b[37m\u001b[0m \u001b[1m0s\u001b[0m 2ms/step - accuracy: 0.8650 - loss: 0.3363 - val_accuracy: 0.8657 - val_loss: 0.3040\n",
            "Epoch 5/10\n",
            "\u001b[1m131/131\u001b[0m \u001b[32m━━━━━━━━━━━━━━━━━━━━\u001b[0m\u001b[37m\u001b[0m \u001b[1m0s\u001b[0m 2ms/step - accuracy: 0.8585 - loss: 0.2936 - val_accuracy: 0.8707 - val_loss: 0.2293\n",
            "Epoch 6/10\n",
            "\u001b[1m131/131\u001b[0m \u001b[32m━━━━━━━━━━━━━━━━━━━━\u001b[0m\u001b[37m\u001b[0m \u001b[1m0s\u001b[0m 2ms/step - accuracy: 0.9067 - loss: 0.1961 - val_accuracy: 0.9533 - val_loss: 0.1517\n",
            "Epoch 7/10\n",
            "\u001b[1m131/131\u001b[0m \u001b[32m━━━━━━━━━━━━━━━━━━━━\u001b[0m\u001b[37m\u001b[0m \u001b[1m0s\u001b[0m 2ms/step - accuracy: 0.9594 - loss: 0.1322 - val_accuracy: 0.9741 - val_loss: 0.1141\n",
            "Epoch 8/10\n",
            "\u001b[1m131/131\u001b[0m \u001b[32m━━━━━━━━━━━━━━━━━━━━\u001b[0m\u001b[37m\u001b[0m \u001b[1m0s\u001b[0m 2ms/step - accuracy: 0.9776 - loss: 0.0873 - val_accuracy: 0.9720 - val_loss: 0.0899\n",
            "Epoch 9/10\n",
            "\u001b[1m131/131\u001b[0m \u001b[32m━━━━━━━━━━━━━━━━━━━━\u001b[0m\u001b[37m\u001b[0m \u001b[1m0s\u001b[0m 2ms/step - accuracy: 0.9820 - loss: 0.0707 - val_accuracy: 0.9749 - val_loss: 0.0787\n",
            "Epoch 10/10\n",
            "\u001b[1m131/131\u001b[0m \u001b[32m━━━━━━━━━━━━━━━━━━━━\u001b[0m\u001b[37m\u001b[0m \u001b[1m0s\u001b[0m 2ms/step - accuracy: 0.9856 - loss: 0.0521 - val_accuracy: 0.9784 - val_loss: 0.0721\n"
          ]
        }
      ],
      "source": [
        "# Build the model\n",
        "model = keras.Sequential([\n",
        "    keras.layers.Embedding(10000, 16, input_length=max_length),\n",
        "    keras.layers.GlobalAveragePooling1D(),\n",
        "    keras.layers.Dense(16, activation='relu'),\n",
        "    keras.layers.Dense(1, activation='sigmoid')\n",
        "])\n",
        "\n",
        "model.compile(optimizer='adam', loss='binary_crossentropy', metrics=['accuracy'])\n",
        "\n",
        "# Train the model\n",
        "history = model.fit(train_padded, train_labels, epochs=10, validation_data=(test_padded, test_labels))\n"
      ]
    },
    {
      "cell_type": "code",
      "execution_count": 8,
      "metadata": {
        "id": "J9tD9yACG6M9"
      },
      "outputs": [
        {
          "name": "stdout",
          "output_type": "stream",
          "text": [
            "\u001b[1m1/1\u001b[0m \u001b[32m━━━━━━━━━━━━━━━━━━━━\u001b[0m\u001b[37m\u001b[0m \u001b[1m0s\u001b[0m 34ms/step\n",
            "[0.02087041, 'ham']\n"
          ]
        }
      ],
      "source": [
        "# function to predict messages based on model\n",
        "# (should return list containing prediction and label, ex. [0.008318834938108921, 'ham'])\n",
        "def predict_message(pred_text):\n",
        "  sequence = tokenizer.texts_to_sequences([pred_text])\n",
        "  padded_sequence = keras.preprocessing.sequence.pad_sequences(sequence, maxlen=max_length, padding='post', truncating='post')\n",
        "  \n",
        "  # Predict the class\n",
        "  prediction = model.predict(padded_sequence)[0][0]\n",
        "  \n",
        "  # Determine the label\n",
        "  label = \"spam\" if prediction > 0.5 else \"ham\"\n",
        "  \n",
        "  return [prediction, label]\n",
        "\n",
        "pred_text = \"how are you doing today?\"\n",
        "\n",
        "prediction = predict_message(pred_text)\n",
        "print(prediction)"
      ]
    },
    {
      "cell_type": "code",
      "execution_count": 10,
      "metadata": {
        "id": "Dxotov85SjsC"
      },
      "outputs": [
        {
          "name": "stdout",
          "output_type": "stream",
          "text": [
            "\u001b[1m1/1\u001b[0m \u001b[32m━━━━━━━━━━━━━━━━━━━━\u001b[0m\u001b[37m\u001b[0m \u001b[1m0s\u001b[0m 13ms/step\n",
            "[0.02087041, 'ham']\n",
            "\u001b[1m1/1\u001b[0m \u001b[32m━━━━━━━━━━━━━━━━━━━━\u001b[0m\u001b[37m\u001b[0m \u001b[1m0s\u001b[0m 12ms/step\n",
            "[0.31558993, 'ham']\n",
            "\u001b[1m1/1\u001b[0m \u001b[32m━━━━━━━━━━━━━━━━━━━━\u001b[0m\u001b[37m\u001b[0m \u001b[1m0s\u001b[0m 11ms/step\n",
            "[0.01728833, 'ham']\n",
            "\u001b[1m1/1\u001b[0m \u001b[32m━━━━━━━━━━━━━━━━━━━━\u001b[0m\u001b[37m\u001b[0m \u001b[1m0s\u001b[0m 11ms/step\n",
            "[0.78821, 'spam']\n",
            "\u001b[1m1/1\u001b[0m \u001b[32m━━━━━━━━━━━━━━━━━━━━\u001b[0m\u001b[37m\u001b[0m \u001b[1m0s\u001b[0m 12ms/step\n",
            "[0.8229675, 'spam']\n",
            "\u001b[1m1/1\u001b[0m \u001b[32m━━━━━━━━━━━━━━━━━━━━\u001b[0m\u001b[37m\u001b[0m \u001b[1m0s\u001b[0m 11ms/step\n",
            "[0.009945674, 'ham']\n",
            "\u001b[1m1/1\u001b[0m \u001b[32m━━━━━━━━━━━━━━━━━━━━\u001b[0m\u001b[37m\u001b[0m \u001b[1m0s\u001b[0m 11ms/step\n",
            "[0.031176342, 'ham']\n",
            "You haven't passed yet. Keep trying.\n"
          ]
        }
      ],
      "source": [
        "# Run this cell to test your function and model. Do not modify contents.\n",
        "def test_predictions():\n",
        "  test_messages = [\"how are you doing today\",\n",
        "                   \"sale today! to stop texts call 98912460324\",\n",
        "                   \"i dont want to go. can we try it a different day? available sat\",\n",
        "                   \"our new mobile video service is live. just install on your phone to start watching.\",\n",
        "                   \"you have won £1000 cash! call to claim your prize.\",\n",
        "                   \"i'll bring it tomorrow. don't forget the milk.\",\n",
        "                   \"wow, is your arm alright. that happened to me one time too\"\n",
        "                  ]\n",
        "\n",
        "  test_answers = [\"ham\", \"spam\", \"ham\", \"spam\", \"spam\", \"ham\", \"ham\"]\n",
        "  passed = True\n",
        "\n",
        "  for msg, ans in zip(test_messages, test_answers):\n",
        "    prediction = predict_message(msg)\n",
        "    print(prediction)\n",
        "    if prediction[1] != ans:\n",
        "      passed = False\n",
        "\n",
        "  if passed:\n",
        "    print(\"You passed the challenge. Great job!\")\n",
        "  else:\n",
        "    print(\"You haven't passed yet. Keep trying.\")\n",
        "\n",
        "test_predictions()\n"
      ]
    }
  ],
  "metadata": {
    "colab": {
      "name": "fcc_sms_text_classification.ipynb",
      "private_outputs": true,
      "provenance": [],
      "toc_visible": true
    },
    "kernelspec": {
      "display_name": "Python 3",
      "name": "python3"
    },
    "language_info": {
      "codemirror_mode": {
        "name": "ipython",
        "version": 3
      },
      "file_extension": ".py",
      "mimetype": "text/x-python",
      "name": "python",
      "nbconvert_exporter": "python",
      "pygments_lexer": "ipython3",
      "version": "3.10.12"
    }
  },
  "nbformat": 4,
  "nbformat_minor": 0
}
